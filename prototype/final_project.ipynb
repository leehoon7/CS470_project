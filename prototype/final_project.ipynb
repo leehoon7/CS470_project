{
  "nbformat": 4,
  "nbformat_minor": 0,
  "metadata": {
    "colab": {
      "name": "Untitled0.ipynb",
      "provenance": [],
      "collapsed_sections": []
    },
    "kernelspec": {
      "name": "python3",
      "display_name": "Python 3"
    }
  },
  "cells": [
    {
      "cell_type": "code",
      "metadata": {
        "id": "7hwUguTDXCPh",
        "colab_type": "code",
        "colab": {}
      },
      "source": [
        "import os\n",
        "import torch\n",
        "import torch.nn as nn\n",
        "import torch.nn.functional as F\n",
        "import torch.optim as optim\n",
        "from torchvision import datasets, transforms\n",
        "from torch.autograd import Variable\n",
        "from torchvision.utils import save_image\n",
        "from IPython.display import Image\n",
        "from IPython.core.display import Image, display\n",
        "import numpy as np\n",
        "\n",
        "batch_size = 100"
      ],
      "execution_count": 0,
      "outputs": []
    },
    {
      "cell_type": "code",
      "metadata": {
        "id": "vF_EO3L-1oEi",
        "colab_type": "code",
        "outputId": "f6e816e2-93ce-4f32-bb6e-36e07d727753",
        "colab": {
          "base_uri": "https://localhost:8080/",
          "height": 34
        }
      },
      "source": [
        "from google.colab import drive\n",
        "\n",
        "drive.mount('/gdrive')\n",
        "gdrive_root = '/gdrive/My Drive/results/'"
      ],
      "execution_count": 26,
      "outputs": [
        {
          "output_type": "stream",
          "text": [
            "Drive already mounted at /gdrive; to attempt to forcibly remount, call drive.mount(\"/gdrive\", force_remount=True).\n"
          ],
          "name": "stdout"
        }
      ]
    },
    {
      "cell_type": "code",
      "metadata": {
        "id": "l3_OWCLjwrrG",
        "colab_type": "code",
        "outputId": "f1fd3483-2ef3-4406-f43f-6abbfd4eda8c",
        "colab": {
          "base_uri": "https://localhost:8080/",
          "height": 34
        }
      },
      "source": [
        "device = torch.device('cuda' if torch.cuda.is_available() else 'cpu')\n",
        "device"
      ],
      "execution_count": 27,
      "outputs": [
        {
          "output_type": "execute_result",
          "data": {
            "text/plain": [
              "device(type='cpu')"
            ]
          },
          "metadata": {
            "tags": []
          },
          "execution_count": 27
        }
      ]
    },
    {
      "cell_type": "code",
      "metadata": {
        "id": "-NQcCY_p_Sg9",
        "colab_type": "code",
        "outputId": "a0505991-edde-4859-a6e7-f125140655d1",
        "colab": {
          "base_uri": "https://localhost:8080/",
          "height": 51
        }
      },
      "source": [
        "import zipfile\n",
        "from PIL import Image\n",
        "import torchvision.transforms.functional as TF\n",
        "\n",
        "archive = zipfile.ZipFile('/gdrive/My Drive/2019Fall/images_labeled.zip', 'r')\n",
        "\n",
        "pick_number = 5000\n",
        "shoes_images = torch.tensor(np.empty([pick_number, 3, 136, 136])).type(torch.DoubleTensor)\n",
        "print(shoes_images.size())\n",
        "\n",
        "\n",
        "picked_list = np.random.choice(50000, pick_number, replace=False)\n",
        "print(picked_list)"
      ],
      "execution_count": 28,
      "outputs": [
        {
          "output_type": "stream",
          "text": [
            "torch.Size([5000, 3, 136, 136])\n",
            "[19947 13999 43512 ...  1095 19205 16765]\n"
          ],
          "name": "stdout"
        }
      ]
    },
    {
      "cell_type": "code",
      "metadata": {
        "id": "PUSl3UflAjYb",
        "colab_type": "code",
        "outputId": "ef36bb9d-93c9-45f3-e1b4-0e0f60150fd9",
        "colab": {
          "base_uri": "https://localhost:8080/",
          "height": 34
        }
      },
      "source": [
        "#print(archive.namelist())\n",
        "for i in range(pick_number):\n",
        "  \n",
        "  imgfile = archive.open('images/' + str(picked_list[i]+1) + '.jpg')\n",
        "  imgfile = TF.to_tensor(Image.open(imgfile)).type(torch.DoubleTensor)\n",
        "  \n",
        "  if(imgfile.size(1)!=136 or imgfile.size(2)!=136):\n",
        "    print(\"nono..\")\n",
        "    continue\n",
        "  shoes_images[i] = imgfile\n",
        "\n",
        "print(shoes_images.size())"
      ],
      "execution_count": 29,
      "outputs": [
        {
          "output_type": "stream",
          "text": [
            "torch.Size([5000, 3, 136, 136])\n"
          ],
          "name": "stdout"
        }
      ]
    },
    {
      "cell_type": "code",
      "metadata": {
        "id": "ritL8xvcTf5X",
        "colab_type": "code",
        "colab": {}
      },
      "source": [
        "shoes_dataloader = torch.utils.data.DataLoader(dataset=shoes_images,\n",
        "                                              batch_size=batch_size,\n",
        "                                              shuffle=False)"
      ],
      "execution_count": 0,
      "outputs": []
    },
    {
      "cell_type": "code",
      "metadata": {
        "id": "-aBUtLbfUmxY",
        "colab_type": "code",
        "outputId": "e154fd01-05c0-48c3-f4a6-38efa1c51d05",
        "colab": {
          "base_uri": "https://localhost:8080/",
          "height": 187
        }
      },
      "source": [
        "from IPython.display import Image\n",
        "from IPython.core.display import Image, display\n",
        "\n",
        "fixed_x = next(iter(shoes_dataloader))\n",
        "recon_test_data = fixed_x[0]\n",
        "\n",
        "# channels is 3 (R, G, B)\n",
        "image_channels = fixed_x.size(1)\n",
        "print(recon_test_data.size())\n",
        "print(recon_test_data.type())\n",
        "save_image(recon_test_data, 'temp.jpg')\n",
        "Image('temp.jpg')"
      ],
      "execution_count": 31,
      "outputs": [
        {
          "output_type": "stream",
          "text": [
            "torch.Size([3, 136, 136])\n",
            "torch.DoubleTensor\n"
          ],
          "name": "stdout"
        },
        {
          "output_type": "execute_result",
          "data": {
            "image/jpeg": "[encoded data removed]",
            "text/plain": [
              "<IPython.core.display.Image object>"
            ]
          },
          "metadata": {
            "tags": []
          },
          "execution_count": 31
        }
      ]
    },
    {
      "cell_type": "code",
      "metadata": {
        "id": "bOCpQKH1YRTG",
        "colab_type": "code",
        "colab": {}
      },
      "source": [
        "class Flatten(nn.Module):\n",
        "    def forward(self, input):\n",
        "        return input.view(input.size(0), -1)"
      ],
      "execution_count": 0,
      "outputs": []
    },
    {
      "cell_type": "code",
      "metadata": {
        "id": "RKF4SffKZ59S",
        "colab_type": "code",
        "colab": {}
      },
      "source": [
        "class UnFlatten(nn.Module):\n",
        "    def forward(self, input):\n",
        "        return input.view(input.size(0), 40, 6, 6)"
      ],
      "execution_count": 0,
      "outputs": []
    },
    {
      "cell_type": "code",
      "metadata": {
        "id": "jTkYxszVZ8ux",
        "colab_type": "code",
        "colab": {}
      },
      "source": [
        "class VAE(nn.Module):\n",
        "    def __init__(self, image_channels, h_dim=36*40, z_dim=100):\n",
        "        super(VAE, self).__init__()\n",
        "        self.encoder = nn.Sequential(\n",
        "            nn.Conv2d(image_channels, 6, kernel_size=4, stride=2),\n",
        "            nn.ReLU(),\n",
        "            nn.Conv2d(6, 12, kernel_size=3, stride=2),\n",
        "            nn.ReLU(),\n",
        "            nn.Conv2d(12, 24, kernel_size=3, stride=2),\n",
        "            nn.ReLU(),\n",
        "            nn.Conv2d(24, 30, kernel_size=4, stride=1),\n",
        "            nn.ReLU(),\n",
        "            nn.Conv2d(30, 40, kernel_size=3, stride=2),\n",
        "            nn.ReLU(),\n",
        "            Flatten()\n",
        "            # 1440\n",
        "        )\n",
        "        \n",
        "        self.fc1 = nn.Linear(h_dim, z_dim)\n",
        "        self.fc2 = nn.Linear(h_dim, z_dim)\n",
        "        self.fc3 = nn.Linear(z_dim, h_dim)\n",
        "        \n",
        "        self.decoder = nn.Sequential(\n",
        "             UnFlatten(),\n",
        "             nn.ConvTranspose2d(40, 30, kernel_size=3, stride=2),\n",
        "             nn.ReLU(),\n",
        "             nn.ConvTranspose2d(30, 24, kernel_size=4, stride=1),\n",
        "             nn.ReLU(), \n",
        "             nn.ConvTranspose2d(24, 12, kernel_size=3, stride=2),    \n",
        "             nn.ReLU(), \n",
        "             nn.ConvTranspose2d(12, 6, kernel_size=3, stride=2),  \n",
        "             nn.ReLU(), \n",
        "             nn.ConvTranspose2d(6, image_channels, kernel_size=4, stride=2),  \n",
        "             nn.Sigmoid(),\n",
        "        )\n",
        "        \n",
        "    def reparameterize(self, mu, logvar):\n",
        "        std = logvar.mul(0.5).exp_()\n",
        "        # return torch.normal(mu, std)\n",
        "        esp = torch.randn(*mu.size())\n",
        "        z = mu + std * esp\n",
        "        return z\n",
        "    \n",
        "    def bottleneck(self, h):\n",
        "        mu, logvar = self.fc1(h), self.fc2(h)\n",
        "        z = self.reparameterize(mu, logvar)\n",
        "        return z, mu, logvar\n",
        "\n",
        "    def encode(self, x):\n",
        "        h = self.encoder(x)\n",
        "        z, mu, logvar = self.bottleneck(h)\n",
        "        return z, mu, logvar\n",
        "\n",
        "    def decode(self, z):\n",
        "        z = self.fc3(z)\n",
        "        z = self.decoder(z)\n",
        "        return z\n",
        "\n",
        "    def forward(self, x):\n",
        "        z, mu, logvar = self.encode(x)\n",
        "        z = self.decode(z)\n",
        "        return z, mu, logvar"
      ],
      "execution_count": 0,
      "outputs": []
    },
    {
      "cell_type": "code",
      "metadata": {
        "id": "F7SYqX8-a92x",
        "colab_type": "code",
        "outputId": "0450cf52-e5c7-4d71-a501-603e0d0d155e",
        "colab": {
          "base_uri": "https://localhost:8080/",
          "height": 34
        }
      },
      "source": [
        "print(len(fixed_x))\n",
        "model = VAE(image_channels=image_channels).type('torch.DoubleTensor').to(device)\n",
        "optimizer = torch.optim.Adam(model.parameters(), lr=1e-3)"
      ],
      "execution_count": 35,
      "outputs": [
        {
          "output_type": "stream",
          "text": [
            "100\n"
          ],
          "name": "stdout"
        }
      ]
    },
    {
      "cell_type": "code",
      "metadata": {
        "id": "B6s6QJNcKkJW",
        "colab_type": "code",
        "outputId": "219f329f-9963-4630-8c52-cd115f4abb89",
        "colab": {
          "base_uri": "https://localhost:8080/",
          "height": 51
        }
      },
      "source": [
        "ckpt_dir = os.path.join(gdrive_root, 'checkpoints')\n",
        "if not os.path.exists(ckpt_dir):\n",
        "  os.makedirs(ckpt_dir)\n",
        "  \n",
        "best_loss = 999999999\n",
        "ckpt_path = os.path.join(ckpt_dir, 'shoes_model.pt')\n",
        "if os.path.exists(ckpt_path):\n",
        "  ckpt = torch.load(ckpt_path)\n",
        "  try:\n",
        "    model.load_state_dict(ckpt['VAE_model'])\n",
        "    optimizer.load_state_dict(ckpt['optimizer'])\n",
        "    best_loss = ckpt['best_loss']\n",
        "  except RuntimeError as e:\n",
        "      print('wrong checkpoint')\n",
        "  else:    \n",
        "    print('checkpoint is loaded !')\n",
        "    print('current best loss : %.2f' % best_loss)"
      ],
      "execution_count": 36,
      "outputs": [
        {
          "output_type": "stream",
          "text": [
            "checkpoint is loaded !\n",
            "current best loss : 9798.49\n"
          ],
          "name": "stdout"
        }
      ]
    },
    {
      "cell_type": "code",
      "metadata": {
        "id": "0ulgr50dbErW",
        "colab_type": "code",
        "colab": {}
      },
      "source": [
        "def loss_function(recon_x, x, mu, logvar):\n",
        "    BCE = F.binary_cross_entropy(recon_x, x.view(-1, 55488), reduction='sum')\n",
        "\n",
        "    # see Appendix B from VAE paper:\n",
        "    # Kingma and Welling. Auto-Encoding Variational Bayes. ICLR, 2014\n",
        "    # https://arxiv.org/abs/1312.6114\n",
        "    # 0.5 * sum(1 + log(sigma^2) - mu^2 - sigma^2)\n",
        "    KLD = -0.5 * torch.sum(1 + logvar - mu.pow(2) - logvar.exp())\n",
        "\n",
        "    return BCE + KLD, BCE, KLD"
      ],
      "execution_count": 0,
      "outputs": []
    },
    {
      "cell_type": "code",
      "metadata": {
        "id": "RHBHVwHwbuOi",
        "colab_type": "code",
        "outputId": "30d54134-eb2d-4e3c-fb0f-46d00d4c6b32",
        "colab": {
          "base_uri": "https://localhost:8080/",
          "height": 884
        }
      },
      "source": [
        "print(len(shoes_dataloader.dataset))\n",
        "\n",
        "for batch_idx, data in enumerate(shoes_dataloader):\n",
        "  print(batch_idx, data.size())"
      ],
      "execution_count": 38,
      "outputs": [
        {
          "output_type": "stream",
          "text": [
            "5000\n",
            "0 torch.Size([100, 3, 136, 136])\n",
            "1 torch.Size([100, 3, 136, 136])\n",
            "2 torch.Size([100, 3, 136, 136])\n",
            "3 torch.Size([100, 3, 136, 136])\n",
            "4 torch.Size([100, 3, 136, 136])\n",
            "5 torch.Size([100, 3, 136, 136])\n",
            "6 torch.Size([100, 3, 136, 136])\n",
            "7 torch.Size([100, 3, 136, 136])\n",
            "8 torch.Size([100, 3, 136, 136])\n",
            "9 torch.Size([100, 3, 136, 136])\n",
            "10 torch.Size([100, 3, 136, 136])\n",
            "11 torch.Size([100, 3, 136, 136])\n",
            "12 torch.Size([100, 3, 136, 136])\n",
            "13 torch.Size([100, 3, 136, 136])\n",
            "14 torch.Size([100, 3, 136, 136])\n",
            "15 torch.Size([100, 3, 136, 136])\n",
            "16 torch.Size([100, 3, 136, 136])\n",
            "17 torch.Size([100, 3, 136, 136])\n",
            "18 torch.Size([100, 3, 136, 136])\n",
            "19 torch.Size([100, 3, 136, 136])\n",
            "20 torch.Size([100, 3, 136, 136])\n",
            "21 torch.Size([100, 3, 136, 136])\n",
            "22 torch.Size([100, 3, 136, 136])\n",
            "23 torch.Size([100, 3, 136, 136])\n",
            "24 torch.Size([100, 3, 136, 136])\n",
            "25 torch.Size([100, 3, 136, 136])\n",
            "26 torch.Size([100, 3, 136, 136])\n",
            "27 torch.Size([100, 3, 136, 136])\n",
            "28 torch.Size([100, 3, 136, 136])\n",
            "29 torch.Size([100, 3, 136, 136])\n",
            "30 torch.Size([100, 3, 136, 136])\n",
            "31 torch.Size([100, 3, 136, 136])\n",
            "32 torch.Size([100, 3, 136, 136])\n",
            "33 torch.Size([100, 3, 136, 136])\n",
            "34 torch.Size([100, 3, 136, 136])\n",
            "35 torch.Size([100, 3, 136, 136])\n",
            "36 torch.Size([100, 3, 136, 136])\n",
            "37 torch.Size([100, 3, 136, 136])\n",
            "38 torch.Size([100, 3, 136, 136])\n",
            "39 torch.Size([100, 3, 136, 136])\n",
            "40 torch.Size([100, 3, 136, 136])\n",
            "41 torch.Size([100, 3, 136, 136])\n",
            "42 torch.Size([100, 3, 136, 136])\n",
            "43 torch.Size([100, 3, 136, 136])\n",
            "44 torch.Size([100, 3, 136, 136])\n",
            "45 torch.Size([100, 3, 136, 136])\n",
            "46 torch.Size([100, 3, 136, 136])\n",
            "47 torch.Size([100, 3, 136, 136])\n",
            "48 torch.Size([100, 3, 136, 136])\n",
            "49 torch.Size([100, 3, 136, 136])\n"
          ],
          "name": "stdout"
        }
      ]
    },
    {
      "cell_type": "code",
      "metadata": {
        "id": "2ncGpylfbxZ5",
        "colab_type": "code",
        "colab": {}
      },
      "source": [
        "def train(epoch):\n",
        "    model.train()\n",
        "    train_loss = 0\n",
        "    train_loss1 = 0\n",
        "    train_loss2 = 0\n",
        "    for batch_idx, data in enumerate(shoes_dataloader):\n",
        "        data = data.to(device).double()\n",
        "        optimizer.zero_grad()\n",
        "        recon_batch, mu, logvar = model(data.double())\n",
        "        loss, loss1, loss2 = loss_function(recon_batch, data, mu, logvar)\n",
        "        loss.backward()\n",
        "        train_loss += loss.item()\n",
        "        train_loss1 += loss1.item()\n",
        "        train_loss2 += loss2.item()\n",
        "        optimizer.step()\n",
        "        if batch_idx % 10 == 0:\n",
        "            print('Train Epoch: {} [{}/{} ({:.0f}%)]\\t\\t Loss: {:.6f}'.format(\n",
        "                epoch, batch_idx * len(data), len(shoes_dataloader.dataset),\n",
        "                100. * batch_idx / len(shoes_dataloader),\n",
        "                loss.item() / len(data)))\n",
        "\n",
        "    print('====> Epoch: {} Average loss: {:.4f}'.format(\n",
        "          epoch, train_loss / len(shoes_dataloader.dataset)))\n",
        "    return train_loss/len(shoes_dataloader.dataset), train_loss1/len(shoes_dataloader.dataset), train_loss2/len(shoes_dataloader.dataset)"
      ],
      "execution_count": 0,
      "outputs": []
    },
    {
      "cell_type": "code",
      "metadata": {
        "id": "VawzPdfscEoC",
        "colab_type": "code",
        "outputId": "a24eaef1-bc80-4252-ecf8-6f2f9bad222d",
        "colab": {
          "base_uri": "https://localhost:8080/",
          "height": 446
        }
      },
      "source": [
        "from IPython.core.display import Image, display\n",
        "\n",
        "loss1_list = []\n",
        "loss2_list = []\n",
        "\n",
        "for epoch in range(1, 1000):\n",
        "    train_loss, loss1, loss2 = train(epoch)\n",
        "    loss1_list.append(loss1)\n",
        "    loss2_list.append(loss2)\n",
        "    #test_loss = test(epoch)\n",
        "    print(int(train_loss), int(best_loss))\n",
        "    # save checkpoint whenever there is improvement in performance\n",
        "    if train_loss < best_loss:\n",
        "      best_loss = train_loss\n",
        "      # Note: optimizer also has states ! don't forget to save them as well.\n",
        "      ckpt = {'VAE_model':model.state_dict(),\n",
        "              'optimizer':optimizer.state_dict(),\n",
        "              'best_loss':best_loss}\n",
        "      torch.save(ckpt, ckpt_path)\n",
        "      print('checkpoint is saved !')\n",
        "    if epoch % 10 == 0 :\n",
        "      with torch.no_grad():\n",
        "          print(\"**************\")\n",
        "          print(\"saving image..\")\n",
        "          print(\"**************\")\n",
        "          a, b, c = model.forward(recon_test_data.view(1, 3, 136, 136))\n",
        "          save_image(a[0], gdrive_root + 'recon_sample_' + str(epoch) + '.png')\n",
        "\n",
        "          sample = torch.randn(16, 100).type('torch.DoubleTensor').to(device)\n",
        "          sample = model.decode(sample).cpu()\n",
        "          save_image(sample.view(16, 3, 136, 136),\n",
        "                      gdrive_root + 'sample_' + str(epoch) + '.png')"
      ],
      "execution_count": 40,
      "outputs": [
        {
          "output_type": "stream",
          "text": [
            "/usr/local/lib/python3.6/dist-packages/ipykernel_launcher.py:2: UserWarning: Using a target size (torch.Size([100, 55488])) that is different to the input size (torch.Size([100, 3, 136, 136])) is deprecated. Please ensure they have the same size.\n",
            "  \n"
          ],
          "name": "stderr"
        },
        {
          "output_type": "stream",
          "text": [
            "Train Epoch: 1 [0/5000 (0%)]\t\t Loss: 10276.384140\n"
          ],
          "name": "stdout"
        },
        {
          "output_type": "error",
          "ename": "KeyboardInterrupt",
          "evalue": "ignored",
          "traceback": [
            "\u001b[0;31m---------------------------------------------------------------------------\u001b[0m",
            "\u001b[0;31mKeyboardInterrupt\u001b[0m                         Traceback (most recent call last)",
            "\u001b[0;32m<ipython-input-40-df20d6965ea8>\u001b[0m in \u001b[0;36m<module>\u001b[0;34m()\u001b[0m\n\u001b[1;32m      5\u001b[0m \u001b[0;34m\u001b[0m\u001b[0m\n\u001b[1;32m      6\u001b[0m \u001b[0;32mfor\u001b[0m \u001b[0mepoch\u001b[0m \u001b[0;32min\u001b[0m \u001b[0mrange\u001b[0m\u001b[0;34m(\u001b[0m\u001b[0;36m1\u001b[0m\u001b[0;34m,\u001b[0m \u001b[0;36m1000\u001b[0m\u001b[0;34m)\u001b[0m\u001b[0;34m:\u001b[0m\u001b[0;34m\u001b[0m\u001b[0;34m\u001b[0m\u001b[0m\n\u001b[0;32m----> 7\u001b[0;31m     \u001b[0mtrain_loss\u001b[0m\u001b[0;34m,\u001b[0m \u001b[0mloss1\u001b[0m\u001b[0;34m,\u001b[0m \u001b[0mloss2\u001b[0m \u001b[0;34m=\u001b[0m \u001b[0mtrain\u001b[0m\u001b[0;34m(\u001b[0m\u001b[0mepoch\u001b[0m\u001b[0;34m)\u001b[0m\u001b[0;34m\u001b[0m\u001b[0;34m\u001b[0m\u001b[0m\n\u001b[0m\u001b[1;32m      8\u001b[0m     \u001b[0mloss1_list\u001b[0m\u001b[0;34m.\u001b[0m\u001b[0mappend\u001b[0m\u001b[0;34m(\u001b[0m\u001b[0mloss1\u001b[0m\u001b[0;34m)\u001b[0m\u001b[0;34m\u001b[0m\u001b[0;34m\u001b[0m\u001b[0m\n\u001b[1;32m      9\u001b[0m     \u001b[0mloss2_list\u001b[0m\u001b[0;34m.\u001b[0m\u001b[0mappend\u001b[0m\u001b[0;34m(\u001b[0m\u001b[0mloss2\u001b[0m\u001b[0;34m)\u001b[0m\u001b[0;34m\u001b[0m\u001b[0;34m\u001b[0m\u001b[0m\n",
            "\u001b[0;32m<ipython-input-39-583ff1ef53ed>\u001b[0m in \u001b[0;36mtrain\u001b[0;34m(epoch)\u001b[0m\n\u001b[1;32m      9\u001b[0m         \u001b[0mrecon_batch\u001b[0m\u001b[0;34m,\u001b[0m \u001b[0mmu\u001b[0m\u001b[0;34m,\u001b[0m \u001b[0mlogvar\u001b[0m \u001b[0;34m=\u001b[0m \u001b[0mmodel\u001b[0m\u001b[0;34m(\u001b[0m\u001b[0mdata\u001b[0m\u001b[0;34m.\u001b[0m\u001b[0mdouble\u001b[0m\u001b[0;34m(\u001b[0m\u001b[0;34m)\u001b[0m\u001b[0;34m)\u001b[0m\u001b[0;34m\u001b[0m\u001b[0;34m\u001b[0m\u001b[0m\n\u001b[1;32m     10\u001b[0m         \u001b[0mloss\u001b[0m\u001b[0;34m,\u001b[0m \u001b[0mloss1\u001b[0m\u001b[0;34m,\u001b[0m \u001b[0mloss2\u001b[0m \u001b[0;34m=\u001b[0m \u001b[0mloss_function\u001b[0m\u001b[0;34m(\u001b[0m\u001b[0mrecon_batch\u001b[0m\u001b[0;34m,\u001b[0m \u001b[0mdata\u001b[0m\u001b[0;34m,\u001b[0m \u001b[0mmu\u001b[0m\u001b[0;34m,\u001b[0m \u001b[0mlogvar\u001b[0m\u001b[0;34m)\u001b[0m\u001b[0;34m\u001b[0m\u001b[0;34m\u001b[0m\u001b[0m\n\u001b[0;32m---> 11\u001b[0;31m         \u001b[0mloss\u001b[0m\u001b[0;34m.\u001b[0m\u001b[0mbackward\u001b[0m\u001b[0;34m(\u001b[0m\u001b[0;34m)\u001b[0m\u001b[0;34m\u001b[0m\u001b[0;34m\u001b[0m\u001b[0m\n\u001b[0m\u001b[1;32m     12\u001b[0m         \u001b[0mtrain_loss\u001b[0m \u001b[0;34m+=\u001b[0m \u001b[0mloss\u001b[0m\u001b[0;34m.\u001b[0m\u001b[0mitem\u001b[0m\u001b[0;34m(\u001b[0m\u001b[0;34m)\u001b[0m\u001b[0;34m\u001b[0m\u001b[0;34m\u001b[0m\u001b[0m\n\u001b[1;32m     13\u001b[0m         \u001b[0mtrain_loss1\u001b[0m \u001b[0;34m+=\u001b[0m \u001b[0mloss1\u001b[0m\u001b[0;34m.\u001b[0m\u001b[0mitem\u001b[0m\u001b[0;34m(\u001b[0m\u001b[0;34m)\u001b[0m\u001b[0;34m\u001b[0m\u001b[0;34m\u001b[0m\u001b[0m\n",
            "\u001b[0;32m/usr/local/lib/python3.6/dist-packages/torch/tensor.py\u001b[0m in \u001b[0;36mbackward\u001b[0;34m(self, gradient, retain_graph, create_graph)\u001b[0m\n\u001b[1;32m    164\u001b[0m                 \u001b[0mproducts\u001b[0m\u001b[0;34m.\u001b[0m \u001b[0mDefaults\u001b[0m \u001b[0mto\u001b[0m\u001b[0;31m \u001b[0m\u001b[0;31m`\u001b[0m\u001b[0;31m`\u001b[0m\u001b[0;32mFalse\u001b[0m\u001b[0;31m`\u001b[0m\u001b[0;31m`\u001b[0m\u001b[0;34m.\u001b[0m\u001b[0;34m\u001b[0m\u001b[0;34m\u001b[0m\u001b[0m\n\u001b[1;32m    165\u001b[0m         \"\"\"\n\u001b[0;32m--> 166\u001b[0;31m         \u001b[0mtorch\u001b[0m\u001b[0;34m.\u001b[0m\u001b[0mautograd\u001b[0m\u001b[0;34m.\u001b[0m\u001b[0mbackward\u001b[0m\u001b[0;34m(\u001b[0m\u001b[0mself\u001b[0m\u001b[0;34m,\u001b[0m \u001b[0mgradient\u001b[0m\u001b[0;34m,\u001b[0m \u001b[0mretain_graph\u001b[0m\u001b[0;34m,\u001b[0m \u001b[0mcreate_graph\u001b[0m\u001b[0;34m)\u001b[0m\u001b[0;34m\u001b[0m\u001b[0;34m\u001b[0m\u001b[0m\n\u001b[0m\u001b[1;32m    167\u001b[0m \u001b[0;34m\u001b[0m\u001b[0m\n\u001b[1;32m    168\u001b[0m     \u001b[0;32mdef\u001b[0m \u001b[0mregister_hook\u001b[0m\u001b[0;34m(\u001b[0m\u001b[0mself\u001b[0m\u001b[0;34m,\u001b[0m \u001b[0mhook\u001b[0m\u001b[0;34m)\u001b[0m\u001b[0;34m:\u001b[0m\u001b[0;34m\u001b[0m\u001b[0;34m\u001b[0m\u001b[0m\n",
            "\u001b[0;32m/usr/local/lib/python3.6/dist-packages/torch/autograd/__init__.py\u001b[0m in \u001b[0;36mbackward\u001b[0;34m(tensors, grad_tensors, retain_graph, create_graph, grad_variables)\u001b[0m\n\u001b[1;32m     97\u001b[0m     Variable._execution_engine.run_backward(\n\u001b[1;32m     98\u001b[0m         \u001b[0mtensors\u001b[0m\u001b[0;34m,\u001b[0m \u001b[0mgrad_tensors\u001b[0m\u001b[0;34m,\u001b[0m \u001b[0mretain_graph\u001b[0m\u001b[0;34m,\u001b[0m \u001b[0mcreate_graph\u001b[0m\u001b[0;34m,\u001b[0m\u001b[0;34m\u001b[0m\u001b[0;34m\u001b[0m\u001b[0m\n\u001b[0;32m---> 99\u001b[0;31m         allow_unreachable=True)  # allow_unreachable flag\n\u001b[0m\u001b[1;32m    100\u001b[0m \u001b[0;34m\u001b[0m\u001b[0m\n\u001b[1;32m    101\u001b[0m \u001b[0;34m\u001b[0m\u001b[0m\n",
            "\u001b[0;31mKeyboardInterrupt\u001b[0m: "
          ]
        }
      ]
    },
    {
      "cell_type": "code",
      "metadata": {
        "id": "58yFB-S1cJHl",
        "colab_type": "code",
        "colab": {}
      },
      "source": [
        "import csv\n",
        "\n",
        "f = open(gdrive_root + '/file_name.csv', 'w', encoding='utf-8')\n",
        "wr = csv.writer(f)\n",
        "\n",
        "for i, data in enumerate(shoes_dataloader):\n",
        "  data = data.to(device)\n",
        "  z, _, _ = model.type('torch.DoubleTensor').encode(data)\n",
        "  for line in z.tolist():\n",
        "    wr.writerow(line)\n",
        "\n",
        "f.close()\n",
        "\n",
        "  #if (i+1) % 5 == 0 :\n",
        "  #  break\n",
        "# index, channel, 가로, 세로"
      ],
      "execution_count": 0,
      "outputs": []
    },
    {
      "cell_type": "code",
      "metadata": {
        "id": "akxsp5PxWEwG",
        "colab_type": "code",
        "outputId": "e5ed3940-0813-40b0-fc4f-ae75f7d1969b",
        "colab": {
          "base_uri": "https://localhost:8080/",
          "height": 969
        }
      },
      "source": [
        "search_index = 1\n",
        "base = []\n",
        "\n",
        "recommend_value = [10000, 10001, 10002, 10003, 10004]\n",
        "recommend_index = [0, 0, 0, 0, 0]\n",
        "\n",
        "f = open(gdrive_root + '/file_name.csv', 'r', encoding='utf-8')\n",
        "rdr = csv.reader(f)\n",
        "\n",
        "i=0\n",
        "for line in rdr:\n",
        "  if i == search_index :\n",
        "    base = line\n",
        "    break\n",
        "  i += 1\n",
        "\n",
        "base = np.array([float(i) for i in base])\n",
        "\n",
        "# 처음부터 읽기 위해서 다시 open 해야 함\n",
        "f.close()\n",
        "f = open(gdrive_root + '/file_name.csv', 'r', encoding='utf-8')\n",
        "\n",
        "# 가장 가까운 5개 찾기\n",
        "k = 0\n",
        "rdr = csv.reader(f)\n",
        "for line in rdr:\n",
        "\n",
        "  # 자기 자신은 제외하고 검색\n",
        "  if k == search_index :\n",
        "    k = k + 1\n",
        "    continue\n",
        "\n",
        "  now = np.array([float(i) for i in line])\n",
        "  now_value = np.linalg.norm(base-now)\n",
        "  \n",
        "  flag = 0\n",
        "  before = len(recommend_value) - 1\n",
        "  \n",
        "  for i in range(len(recommend_value)):\n",
        "    if recommend_value[4-i] > now_value :\n",
        "      if flag == 0:\n",
        "        recommend_value[4-i] = now_value\n",
        "        recommend_index[4-i] = k\n",
        "        flag = 1\n",
        "      else :\n",
        "        recommend_value[4-i] ,recommend_value[before] = recommend_value[before], recommend_value[4-i]\n",
        "        recommend_index[4-i] ,recommend_index[before] = recommend_index[before], recommend_index[4-i]\n",
        "      before = 4 - i\n",
        "  k = k + 1\n",
        "\n",
        "f.close()\n",
        "\n",
        "print(recommend_value)\n",
        "print(recommend_index)\n",
        "\n",
        "from PIL import Image\n",
        "from IPython.core.display import Image as Image_show\n",
        "from IPython.core.display import display\n",
        "\n",
        "imgfile = archive.open('images/' + str(picked_list[search_index]+1) + '.jpg')\n",
        "imgfile = TF.to_tensor(Image.open(imgfile)).type(torch.DoubleTensor)\n",
        "print(\"original image ..\")\n",
        "save_image(imgfile, 'temp.jpg')\n",
        "display(Image_show('temp.jpg'))\n",
        "\n",
        "for i in range(len(recommend_value)):\n",
        "  \n",
        "  imgfile = archive.open('images/' + str(picked_list[recommend_index[i]]+1) + '.jpg')\n",
        "  imgfile = TF.to_tensor(Image.open(imgfile)).type(torch.DoubleTensor)\n",
        "\n",
        "  save_image(imgfile, 'temp.jpg')\n",
        "  print(\"recommend \" + str(i+1) + \"..\")\n",
        "  display(Image_show('temp.jpg'))"
      ],
      "execution_count": 44,
      "outputs": [
        {
          "output_type": "stream",
          "text": [
            "[7.000943142327639, 7.347676607330868, 7.380760051018815, 7.425539571559277, 7.454635046097057]\n",
            "[4508, 3497, 3867, 2468, 661]\n",
            "original image ..\n"
          ],
          "name": "stdout"
        },
        {
          "output_type": "display_data",
          "data": {
            "image/jpeg": "[encoded data removed]",
            "text/plain": [
              "<IPython.core.display.Image object>"
            ]
          },
          "metadata": {
            "tags": []
          }
        },
        {
          "output_type": "stream",
          "text": [
            "recommend 1..\n"
          ],
          "name": "stdout"
        },
        {
          "output_type": "display_data",
          "data": {
            "image/jpeg": "[encoded data removed]",
            "text/plain": [
              "<IPython.core.display.Image object>"
            ]
          },
          "metadata": {
            "tags": []
          }
        },
        {
          "output_type": "stream",
          "text": [
            "recommend 2..\n"
          ],
          "name": "stdout"
        },
        {
          "output_type": "display_data",
          "data": {
            "image/jpeg": "[encoded data removed]",
            "text/plain": [
              "<IPython.core.display.Image object>"
            ]
          },
          "metadata": {
            "tags": []
          }
        },
        {
          "output_type": "stream",
          "text": [
            "recommend 3..\n"
          ],
          "name": "stdout"
        },
        {
          "output_type": "display_data",
          "data": {
            "image/jpeg": "[encoded data removed]",
            "text/plain": [
              "<IPython.core.display.Image object>"
            ]
          },
          "metadata": {
            "tags": []
          }
        },
        {
          "output_type": "stream",
          "text": [
            "recommend 4..\n"
          ],
          "name": "stdout"
        },
        {
          "output_type": "display_data",
          "data": {
            "image/jpeg": "[encoded data removed]",
            "text/plain": [
              "<IPython.core.display.Image object>"
            ]
          },
          "metadata": {
            "tags": []
          }
        },
        {
          "output_type": "stream",
          "text": [
            "recommend 5..\n"
          ],
          "name": "stdout"
        },
        {
          "output_type": "display_data",
          "data": {
            "image/jpeg": "[encoded data removed]",
            "text/plain": [
              "<IPython.core.display.Image object>"
            ]
          },
          "metadata": {
            "tags": []
          }
        }
      ]
    },
    {
      "cell_type": "code",
      "metadata": {
        "id": "5uXY6u2w-Tn2",
        "colab_type": "code",
        "colab": {}
      },
      "source": [
        ""
      ],
      "execution_count": 0,
      "outputs": []
    }
  ]
}